{
 "cells": [
  {
   "cell_type": "code",
   "execution_count": 1,
   "id": "6cf549ba",
   "metadata": {},
   "outputs": [],
   "source": [
    "import numpy as np\n",
    "import pandas as pd\n",
    "import torch\n",
    "import numpy as np\n",
    "import pandas as pd\n",
    "from datasets import Dataset\n",
    "from datasets import load_metric\n",
    "from transformers import AutoTokenizer, DataCollatorWithPadding\n",
    "from transformers import TrainingArguments, AutoModelForSequenceClassification, Trainer"
   ]
  },
  {
   "cell_type": "code",
   "execution_count": 36,
   "id": "f67e3a32",
   "metadata": {},
   "outputs": [],
   "source": [
    "df_healthy = pd.read_csv(\"depression_dataset_reddit_cleaned.csv\")\n",
    "df_addiction = pd.read_csv(\"addiction_pre_features_tfidf_256.csv\")\n",
    "df_schizophrenia = pd.read_csv(\"schizophrenia_pre_features_tfidf_256.csv\")\n",
    "df_lonely = pd.read_csv(\"lonely_pre_features_tfidf_256.csv\")\n",
    "df_depression = pd.read_csv(\"depression_pre_features_tfidf_256.csv\")\n",
    "df_autism = pd.read_csv(\"autism_pre_features_tfidf_256.csv\")\n",
    "df_anxiety = pd.read_csv(\"anxiety_pre_features_tfidf_256.csv\")\n",
    "df_alcoholism = pd.read_csv(\"alcoholism_pre_features_tfidf_256.csv\")\n",
    "df_adhd = pd.read_csv(\"adhd_pre_features_tfidf_256.csv\")\n",
    "df_suicidewatch = pd.read_csv(\"suicidewatch_pre_features_tfidf_256.csv\")\n",
    "df_socialanxiety = pd.read_csv(\"socialanxiety_pre_features_tfidf_256.csv\")"
   ]
  },
  {
   "cell_type": "code",
   "execution_count": 37,
   "id": "ce3f04a1",
   "metadata": {},
   "outputs": [
    {
     "data": {
      "text/html": [
       "<div>\n",
       "<style scoped>\n",
       "    .dataframe tbody tr th:only-of-type {\n",
       "        vertical-align: middle;\n",
       "    }\n",
       "\n",
       "    .dataframe tbody tr th {\n",
       "        vertical-align: top;\n",
       "    }\n",
       "\n",
       "    .dataframe thead th {\n",
       "        text-align: right;\n",
       "    }\n",
       "</style>\n",
       "<table border=\"1\" class=\"dataframe\">\n",
       "  <thead>\n",
       "    <tr style=\"text-align: right;\">\n",
       "      <th></th>\n",
       "      <th>post</th>\n",
       "      <th>category</th>\n",
       "    </tr>\n",
       "  </thead>\n",
       "  <tbody>\n",
       "    <tr>\n",
       "      <th>3831</th>\n",
       "      <td>switchfoot http twitpic com y zl awww that s a...</td>\n",
       "      <td>healthy</td>\n",
       "    </tr>\n",
       "    <tr>\n",
       "      <th>3832</th>\n",
       "      <td>is upset that he can t update his facebook by ...</td>\n",
       "      <td>healthy</td>\n",
       "    </tr>\n",
       "    <tr>\n",
       "      <th>3833</th>\n",
       "      <td>kenichan i dived many time for the ball manage...</td>\n",
       "      <td>healthy</td>\n",
       "    </tr>\n",
       "    <tr>\n",
       "      <th>3834</th>\n",
       "      <td>my whole body feel itchy and like it on fire</td>\n",
       "      <td>healthy</td>\n",
       "    </tr>\n",
       "    <tr>\n",
       "      <th>3835</th>\n",
       "      <td>nationwideclass no it s not behaving at all i ...</td>\n",
       "      <td>healthy</td>\n",
       "    </tr>\n",
       "  </tbody>\n",
       "</table>\n",
       "</div>"
      ],
      "text/plain": [
       "                                                   post category\n",
       "3831  switchfoot http twitpic com y zl awww that s a...  healthy\n",
       "3832  is upset that he can t update his facebook by ...  healthy\n",
       "3833  kenichan i dived many time for the ball manage...  healthy\n",
       "3834       my whole body feel itchy and like it on fire  healthy\n",
       "3835  nationwideclass no it s not behaving at all i ...  healthy"
      ]
     },
     "execution_count": 37,
     "metadata": {},
     "output_type": "execute_result"
    }
   ],
   "source": [
    "df_healthy = df_healthy[df_healthy[\"is_depression\"] == 0]\n",
    "df_healthy.rename(columns = {'is_depression':'category', \"clean_text\" : \"post\"}, inplace = True)\n",
    "\n",
    "df_healthy.replace(0, \"healthy\", inplace = True)\n",
    "df_healthy.head()"
   ]
  },
  {
   "cell_type": "code",
   "execution_count": 38,
   "id": "2042c507",
   "metadata": {},
   "outputs": [
    {
     "name": "stdout",
     "output_type": "stream",
     "text": [
      "  category                                               post\n",
      "0  healthy  switchfoot http twitpic com y zl awww that s a...\n",
      "1  healthy  is upset that he can t update his facebook by ...\n",
      "2  healthy  kenichan i dived many time for the ball manage...\n",
      "3  healthy       my whole body feel itchy and like it on fire\n",
      "4  healthy  nationwideclass no it s not behaving at all i ...\n"
     ]
    }
   ],
   "source": [
    "def create_category_df(df, category_name):\n",
    "    return pd.DataFrame({'category': category_name, 'post': df['post']})\n",
    "\n",
    "# Creating category DataFrames\n",
    "df_healthy_cat = create_category_df(df_healthy, 'healthy')\n",
    "df_addiction_cat = create_category_df(df_addiction, 'addiction')\n",
    "df_schizophrenia_cat = create_category_df(df_schizophrenia, 'schizophrenia')\n",
    "df_lonely_cat = create_category_df(df_lonely, 'lonely')\n",
    "df_depression_cat = create_category_df(df_depression, 'depression')\n",
    "df_autism_cat = create_category_df(df_autism, 'autism')\n",
    "df_anxiety_cat = create_category_df(df_anxiety, 'anxiety')\n",
    "df_alcoholism_cat = create_category_df(df_alcoholism, 'alcoholism')\n",
    "df_adhd_cat = create_category_df(df_adhd, 'adhd')\n",
    "df_suicidewatch_cat = create_category_df(df_suicidewatch, 'suicidewatch')\n",
    "df_socialanxiety_cat = create_category_df(df_socialanxiety, 'socialanxiety')\n",
    "\n",
    "# Concatenating all category DataFrames into one\n",
    "df_combined = pd.concat([df_healthy_cat, df_addiction_cat, df_schizophrenia_cat, df_lonely_cat, df_depression_cat, df_autism_cat, df_anxiety_cat, df_alcoholism_cat, df_adhd_cat, df_suicidewatch_cat, df_socialanxiety_cat])\n",
    "\n",
    "# Resetting index for the combined DataFrame\n",
    "df_combined.reset_index(drop=True, inplace=True)\n",
    "\n",
    "# Display the combined DataFrame\n",
    "print(df_combined.head())"
   ]
  },
  {
   "cell_type": "code",
   "execution_count": 39,
   "id": "51c6b182",
   "metadata": {},
   "outputs": [],
   "source": [
    "df_combined.rename(columns = {'category':'label'}, inplace = True)"
   ]
  },
  {
   "cell_type": "code",
   "execution_count": 40,
   "id": "6e40e332",
   "metadata": {},
   "outputs": [],
   "source": [
    "from sklearn.preprocessing import LabelEncoder\n",
    "\n",
    "label_encoder = LabelEncoder()\n",
    "df_combined[\"label\"] = label_encoder.fit_transform(df_combined[\"label\"])"
   ]
  },
  {
   "cell_type": "code",
   "execution_count": 41,
   "id": "0b7657d6",
   "metadata": {},
   "outputs": [
    {
     "data": {
      "text/html": [
       "<div>\n",
       "<style scoped>\n",
       "    .dataframe tbody tr th:only-of-type {\n",
       "        vertical-align: middle;\n",
       "    }\n",
       "\n",
       "    .dataframe tbody tr th {\n",
       "        vertical-align: top;\n",
       "    }\n",
       "\n",
       "    .dataframe thead th {\n",
       "        text-align: right;\n",
       "    }\n",
       "</style>\n",
       "<table border=\"1\" class=\"dataframe\">\n",
       "  <thead>\n",
       "    <tr style=\"text-align: right;\">\n",
       "      <th></th>\n",
       "      <th>label</th>\n",
       "      <th>post</th>\n",
       "    </tr>\n",
       "  </thead>\n",
       "  <tbody>\n",
       "    <tr>\n",
       "      <th>0</th>\n",
       "      <td>6</td>\n",
       "      <td>switchfoot http twitpic com y zl awww that s a...</td>\n",
       "    </tr>\n",
       "    <tr>\n",
       "      <th>1</th>\n",
       "      <td>6</td>\n",
       "      <td>is upset that he can t update his facebook by ...</td>\n",
       "    </tr>\n",
       "    <tr>\n",
       "      <th>2</th>\n",
       "      <td>6</td>\n",
       "      <td>kenichan i dived many time for the ball manage...</td>\n",
       "    </tr>\n",
       "    <tr>\n",
       "      <th>3</th>\n",
       "      <td>6</td>\n",
       "      <td>my whole body feel itchy and like it on fire</td>\n",
       "    </tr>\n",
       "    <tr>\n",
       "      <th>4</th>\n",
       "      <td>6</td>\n",
       "      <td>nationwideclass no it s not behaving at all i ...</td>\n",
       "    </tr>\n",
       "  </tbody>\n",
       "</table>\n",
       "</div>"
      ],
      "text/plain": [
       "   label                                               post\n",
       "0      6  switchfoot http twitpic com y zl awww that s a...\n",
       "1      6  is upset that he can t update his facebook by ...\n",
       "2      6  kenichan i dived many time for the ball manage...\n",
       "3      6       my whole body feel itchy and like it on fire\n",
       "4      6  nationwideclass no it s not behaving at all i ..."
      ]
     },
     "execution_count": 41,
     "metadata": {},
     "output_type": "execute_result"
    }
   ],
   "source": [
    "df_combined.head()"
   ]
  },
  {
   "cell_type": "code",
   "execution_count": 44,
   "id": "5664bd56",
   "metadata": {},
   "outputs": [],
   "source": [
    "train = df_combined.sample(frac=0.85)\n",
    "test = df_combined.drop(train.index)"
   ]
  },
  {
   "cell_type": "code",
   "execution_count": 45,
   "id": "1007f401",
   "metadata": {},
   "outputs": [
    {
     "name": "stdout",
     "output_type": "stream",
     "text": [
      "Dataset({\n",
      "    features: ['label', 'post'],\n",
      "    num_rows: 103352\n",
      "})\n",
      "Dataset({\n",
      "    features: ['label', 'post'],\n",
      "    num_rows: 18238\n",
      "})\n"
     ]
    }
   ],
   "source": [
    "train = Dataset.from_pandas(train, preserve_index=False)\n",
    "test = Dataset.from_pandas(test, preserve_index=False)\n",
    "\n",
    "print(train)\n",
    "print(test)"
   ]
  },
  {
   "cell_type": "code",
   "execution_count": 10,
   "id": "2cf87e8a",
   "metadata": {},
   "outputs": [
    {
     "data": {
      "application/vnd.jupyter.widget-view+json": {
       "model_id": "568e73746c224cefbbf8e6c53bbe9db5",
       "version_major": 2,
       "version_minor": 0
      },
      "text/plain": [
       "Map:   0%|          | 0/5798 [00:00<?, ? examples/s]"
      ]
     },
     "metadata": {},
     "output_type": "display_data"
    },
    {
     "data": {
      "application/vnd.jupyter.widget-view+json": {
       "model_id": "e330f895d86444fdbb2eb718390a6f92",
       "version_major": 2,
       "version_minor": 0
      },
      "text/plain": [
       "Map:   0%|          | 0/1933 [00:00<?, ? examples/s]"
      ]
     },
     "metadata": {},
     "output_type": "display_data"
    }
   ],
   "source": [
    "tokenizer = AutoTokenizer.from_pretrained('roberta-base')\n",
    "\n",
    "def tokenize_function(example):\n",
    "    return tokenizer(example[\"clean_text\"], padding=\"max_length\", truncation=True)\n",
    "\n",
    "tokenized_train_dataset = train.map(tokenize_function, batched=True)\n",
    "tokenized_test_dataset = test.map(tokenize_function, batched=True)\n",
    "data_collator = DataCollatorWithPadding(tokenizer=tokenizer)"
   ]
  },
  {
   "cell_type": "code",
   "execution_count": 1,
   "id": "608fa756",
   "metadata": {},
   "outputs": [],
   "source": [
    "training_args = TrainingArguments(\"test-trainer\", evaluation_strategy=\"epoch\")   # default arguments for fine-tuning\n",
    "model = AutoModelForSequenceClassification.from_pretrained('roberta-base', num_labels=2)  # overwriting MLM roberta-base for sequence binary classification\n",
    "\n",
    "def compute_metrics(eval_preds):   # compute accuracy and f1-score\n",
    "    metric = load_metric(\"glue\", \"mrpc\")\n",
    "    logits, labels = eval_preds\n",
    "    predictions = np.argmax(logits, axis=-1)\n",
    "    return metric.compute(predictions=predictions, references=labels)\n",
    "\n",
    "trainer = Trainer(   # specifying trainer class\n",
    "    model,\n",
    "    training_args,\n",
    "    train_dataset=tokenized_train_dataset,\n",
    "    eval_dataset=tokenized_test_dataset,\n",
    "    data_collator=data_collator,\n",
    "    tokenizer=tokenizer,\n",
    "    compute_metrics=compute_metrics,\n",
    ")\n",
    "\n",
    "trainer.train()"
   ]
  },
  {
   "cell_type": "code",
   "execution_count": null,
   "id": "6131d196",
   "metadata": {},
   "outputs": [],
   "source": []
  }
 ],
 "metadata": {
  "kernelspec": {
   "display_name": "Python 3 (ipykernel)",
   "language": "python",
   "name": "python3"
  },
  "language_info": {
   "codemirror_mode": {
    "name": "ipython",
    "version": 3
   },
   "file_extension": ".py",
   "mimetype": "text/x-python",
   "name": "python",
   "nbconvert_exporter": "python",
   "pygments_lexer": "ipython3",
   "version": "3.11.5"
  }
 },
 "nbformat": 4,
 "nbformat_minor": 5
}
