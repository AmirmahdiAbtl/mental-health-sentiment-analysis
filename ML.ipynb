{
 "cells": [
  {
   "cell_type": "code",
   "execution_count": 14,
   "id": "b89f0feb",
   "metadata": {},
   "outputs": [],
   "source": [
    "import numpy as np\n",
    "import pandas as pd\n",
    "import matplotlib.pyplot as plt\n",
    "\n",
    "import re\n",
    "from nltk.corpus import stopwords\n",
    "from nltk.stem import PorterStemmer\n",
    "import string\n",
    "\n",
    "from sklearn.model_selection import train_test_split\n",
    "from sklearn.metrics import accuracy_score\n",
    "\n",
    "from tensorflow.keras.models import Model, Sequential, load_model\n",
    "from tensorflow.keras.layers import Input, LSTM, RepeatVector, TimeDistributed, Dense, Embedding, Dropout, InputLayer\n",
    "from tensorflow.keras.optimizers import Adam\n",
    "import tensorflow_hub as hub\n",
    "import tensorflow as tf\n",
    "from tensorflow.keras.preprocessing.text import Tokenizer\n",
    "from tensorflow.keras.preprocessing.sequence import pad_sequences"
   ]
  },
  {
   "cell_type": "code",
   "execution_count": 2,
   "id": "be231244",
   "metadata": {},
   "outputs": [],
   "source": [
    "df_healthy = pd.read_csv(\"depression_dataset_reddit_cleaned.csv\")\n",
    "df_addiction = pd.read_csv(\"addiction_pre_features_tfidf_256.csv\")\n",
    "df_schizophrenia = pd.read_csv(\"schizophrenia_pre_features_tfidf_256.csv\")\n",
    "df_lonely = pd.read_csv(\"lonely_pre_features_tfidf_256.csv\")\n",
    "df_depression = pd.read_csv(\"depression_pre_features_tfidf_256.csv\")\n",
    "df_autism = pd.read_csv(\"autism_pre_features_tfidf_256.csv\")\n",
    "df_anxiety = pd.read_csv(\"anxiety_pre_features_tfidf_256.csv\")\n",
    "df_alcoholism = pd.read_csv(\"alcoholism_pre_features_tfidf_256.csv\")\n",
    "df_adhd = pd.read_csv(\"adhd_pre_features_tfidf_256.csv\")\n",
    "df_suicidewatch = pd.read_csv(\"suicidewatch_pre_features_tfidf_256.csv\")\n",
    "df_socialanxiety = pd.read_csv(\"socialanxiety_pre_features_tfidf_256.csv\")"
   ]
  },
  {
   "cell_type": "code",
   "execution_count": 3,
   "id": "5e151c90",
   "metadata": {},
   "outputs": [
    {
     "data": {
      "text/html": [
       "<div>\n",
       "<style scoped>\n",
       "    .dataframe tbody tr th:only-of-type {\n",
       "        vertical-align: middle;\n",
       "    }\n",
       "\n",
       "    .dataframe tbody tr th {\n",
       "        vertical-align: top;\n",
       "    }\n",
       "\n",
       "    .dataframe thead th {\n",
       "        text-align: right;\n",
       "    }\n",
       "</style>\n",
       "<table border=\"1\" class=\"dataframe\">\n",
       "  <thead>\n",
       "    <tr style=\"text-align: right;\">\n",
       "      <th></th>\n",
       "      <th>post</th>\n",
       "      <th>category</th>\n",
       "    </tr>\n",
       "  </thead>\n",
       "  <tbody>\n",
       "    <tr>\n",
       "      <th>3831</th>\n",
       "      <td>switchfoot http twitpic com y zl awww that s a...</td>\n",
       "      <td>healthy</td>\n",
       "    </tr>\n",
       "    <tr>\n",
       "      <th>3832</th>\n",
       "      <td>is upset that he can t update his facebook by ...</td>\n",
       "      <td>healthy</td>\n",
       "    </tr>\n",
       "    <tr>\n",
       "      <th>3833</th>\n",
       "      <td>kenichan i dived many time for the ball manage...</td>\n",
       "      <td>healthy</td>\n",
       "    </tr>\n",
       "    <tr>\n",
       "      <th>3834</th>\n",
       "      <td>my whole body feel itchy and like it on fire</td>\n",
       "      <td>healthy</td>\n",
       "    </tr>\n",
       "    <tr>\n",
       "      <th>3835</th>\n",
       "      <td>nationwideclass no it s not behaving at all i ...</td>\n",
       "      <td>healthy</td>\n",
       "    </tr>\n",
       "  </tbody>\n",
       "</table>\n",
       "</div>"
      ],
      "text/plain": [
       "                                                   post category\n",
       "3831  switchfoot http twitpic com y zl awww that s a...  healthy\n",
       "3832  is upset that he can t update his facebook by ...  healthy\n",
       "3833  kenichan i dived many time for the ball manage...  healthy\n",
       "3834       my whole body feel itchy and like it on fire  healthy\n",
       "3835  nationwideclass no it s not behaving at all i ...  healthy"
      ]
     },
     "execution_count": 3,
     "metadata": {},
     "output_type": "execute_result"
    }
   ],
   "source": [
    "df_healthy = df_healthy[df_healthy[\"is_depression\"] == 0]\n",
    "df_healthy.rename(columns = {'is_depression':'category', \"clean_text\" : \"post\"}, inplace = True)\n",
    "\n",
    "df_healthy.replace(0, \"healthy\", inplace = True)\n",
    "df_healthy.head()"
   ]
  },
  {
   "cell_type": "code",
   "execution_count": 4,
   "id": "23332916",
   "metadata": {},
   "outputs": [
    {
     "name": "stdout",
     "output_type": "stream",
     "text": [
      "  category                                               post\n",
      "0  healthy  switchfoot http twitpic com y zl awww that s a...\n",
      "1  healthy  is upset that he can t update his facebook by ...\n",
      "2  healthy  kenichan i dived many time for the ball manage...\n",
      "3  healthy       my whole body feel itchy and like it on fire\n",
      "4  healthy  nationwideclass no it s not behaving at all i ...\n"
     ]
    }
   ],
   "source": [
    "def create_category_df(df, category_name):\n",
    "    return pd.DataFrame({'category': category_name, 'post': df['post']})\n",
    "\n",
    "df_healthy_cat = create_category_df(df_healthy, 'healthy')\n",
    "df_addiction_cat = create_category_df(df_addiction, 'addiction')\n",
    "df_schizophrenia_cat = create_category_df(df_schizophrenia, 'schizophrenia')\n",
    "df_lonely_cat = create_category_df(df_lonely, 'lonely')\n",
    "df_depression_cat = create_category_df(df_depression, 'depression')\n",
    "df_autism_cat = create_category_df(df_autism, 'autism')\n",
    "df_anxiety_cat = create_category_df(df_anxiety, 'anxiety')\n",
    "df_alcoholism_cat = create_category_df(df_alcoholism, 'alcoholism')\n",
    "df_adhd_cat = create_category_df(df_adhd, 'adhd')\n",
    "df_suicidewatch_cat = create_category_df(df_suicidewatch, 'suicidewatch')\n",
    "df_socialanxiety_cat = create_category_df(df_socialanxiety, 'socialanxiety')\n",
    "\n",
    "df_combined = pd.concat([df_healthy_cat, df_addiction_cat, df_schizophrenia_cat, df_lonely_cat, df_depression_cat, df_autism_cat, df_anxiety_cat, df_alcoholism_cat, df_adhd_cat, df_suicidewatch_cat, df_socialanxiety_cat])\n",
    "\n",
    "df_combined.reset_index(drop=True, inplace=True)\n",
    "\n",
    "print(df_combined.head())"
   ]
  },
  {
   "cell_type": "code",
   "execution_count": 21,
   "id": "6bed28cc",
   "metadata": {},
   "outputs": [],
   "source": [
    "samples_per_class = 3000\n",
    "\n",
    "# Initialize an empty list to store samples from each class\n",
    "balanced_dataframes = []\n",
    "\n",
    "# Iterate over each unique label and sample the required number of instances\n",
    "for label in df_combined['category'].unique():\n",
    "    label_df = df_combined[df_combined['category'] == label].sample(n=samples_per_class, random_state=42)\n",
    "    balanced_dataframes.append(label_df)\n",
    "\n",
    "# Concatenate all sampled dataframes into one\n",
    "df_combined = pd.concat(balanced_dataframes).reset_index(drop=True)"
   ]
  },
  {
   "cell_type": "code",
   "execution_count": 22,
   "id": "3f1c4905",
   "metadata": {},
   "outputs": [],
   "source": [
    "def preprocessing(text):\n",
    "    text = str(text)\n",
    "    \n",
    "    # Remove retweet \"RT\" text\n",
    "    text = re.sub(r'^RT[\\s]+', '', text)\n",
    "    \n",
    "    # Remove HTML line breaks\n",
    "    text = re.sub(r'<br />', '', text)\n",
    "    \n",
    "    # Remove URLs\n",
    "    text = re.sub(r'http\\S+|www\\S+|https\\S+', '', text, flags=re.MULTILINE)\n",
    "    \n",
    "    # Remove special characters and numbers\n",
    "    text = re.sub(r'\\d+', '', text)\n",
    "    text = re.sub(r'[^\\w\\s]', '', text)\n",
    "    \n",
    "    # Remove single quotes\n",
    "    text = text.replace(\"\\'\", \"\")\n",
    "    \n",
    "    # Tokenize text\n",
    "    tokens = text.split()\n",
    "    \n",
    "    # Get stopwords and initialize stemmer\n",
    "    stopwords_english = stopwords.words(\"english\")\n",
    "    stemmer = PorterStemmer()\n",
    "    \n",
    "    cleaned_words = []\n",
    "\n",
    "    for x in tokens:\n",
    "        if x not in stopwords_english:\n",
    "            stem_word = stemmer.stem(x)\n",
    "            cleaned_words.append(stem_word)\n",
    "    \n",
    "    return ' '.join(cleaned_words)\n"
   ]
  },
  {
   "cell_type": "code",
   "execution_count": 23,
   "id": "b0300542",
   "metadata": {},
   "outputs": [],
   "source": [
    "df_combined[\"cleaned_post\"] = df_combined[\"post\"].apply(preprocessing)"
   ]
  },
  {
   "cell_type": "code",
   "execution_count": 24,
   "id": "02b48f66",
   "metadata": {},
   "outputs": [],
   "source": [
    "from sklearn.model_selection import train_test_split\n",
    "\n",
    "X = df_combined[\"cleaned_post\"]\n",
    "y = df_combined[\"category\"]\n",
    "\n",
    "train_x, test_x, train_y, test_y = train_test_split(X, y, test_size = 0.2, random_state = 42)"
   ]
  },
  {
   "cell_type": "code",
   "execution_count": 25,
   "id": "bde81ee9",
   "metadata": {},
   "outputs": [],
   "source": [
    "from sklearn.feature_extraction.text import CountVectorizer\n",
    "\n",
    "counter = CountVectorizer()\n",
    "train_x_cv = counter.fit_transform(train_x)\n",
    "test_x_cv = counter.transform(test_x)"
   ]
  },
  {
   "cell_type": "code",
   "execution_count": 26,
   "id": "858ca448",
   "metadata": {},
   "outputs": [
    {
     "data": {
      "text/plain": [
       "0.6781818181818182"
      ]
     },
     "execution_count": 26,
     "metadata": {},
     "output_type": "execute_result"
    }
   ],
   "source": [
    "from sklearn.naive_bayes import MultinomialNB\n",
    "\n",
    "model = MultinomialNB()\n",
    "model.fit(train_x_cv, train_y)\n",
    "\n",
    "y_pred = model.predict(test_x_cv)\n",
    "model.score(test_x_cv, test_y)"
   ]
  },
  {
   "cell_type": "code",
   "execution_count": 27,
   "id": "1d49ac52",
   "metadata": {},
   "outputs": [
    {
     "name": "stdout",
     "output_type": "stream",
     "text": [
      "               precision    recall  f1-score   support\n",
      "\n",
      "    addiction       0.80      0.76      0.78       642\n",
      "         adhd       0.80      0.71      0.75       658\n",
      "   alcoholism       0.86      0.79      0.83       660\n",
      "      anxiety       0.63      0.60      0.61       597\n",
      "       autism       0.75      0.81      0.78       558\n",
      "   depression       0.40      0.43      0.41       597\n",
      "      healthy       0.41      1.00      0.58       226\n",
      "       lonely       0.72      0.62      0.66       715\n",
      "schizophrenia       0.74      0.82      0.78       552\n",
      "socialanxiety       0.66      0.63      0.65       640\n",
      " suicidewatch       0.69      0.55      0.61       755\n",
      "\n",
      "     accuracy                           0.68      6600\n",
      "    macro avg       0.68      0.70      0.68      6600\n",
      " weighted avg       0.70      0.68      0.68      6600\n",
      "\n"
     ]
    }
   ],
   "source": [
    "from sklearn.metrics import classification_report\n",
    "\n",
    "print(classification_report(y_pred, test_y))"
   ]
  },
  {
   "cell_type": "code",
   "execution_count": null,
   "id": "ff3dee63",
   "metadata": {},
   "outputs": [],
   "source": []
  }
 ],
 "metadata": {
  "kernelspec": {
   "display_name": "Python 3 (ipykernel)",
   "language": "python",
   "name": "python3"
  },
  "language_info": {
   "codemirror_mode": {
    "name": "ipython",
    "version": 3
   },
   "file_extension": ".py",
   "mimetype": "text/x-python",
   "name": "python",
   "nbconvert_exporter": "python",
   "pygments_lexer": "ipython3",
   "version": "3.11.5"
  }
 },
 "nbformat": 4,
 "nbformat_minor": 5
}
