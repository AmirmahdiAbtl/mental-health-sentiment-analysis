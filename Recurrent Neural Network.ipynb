{
 "cells": [
  {
   "cell_type": "markdown",
   "id": "d1d25240",
   "metadata": {},
   "source": [
    "# Importing Libraries\n",
    "\n",
    "In this section, we import the necessary libraries and modules required for the project. These include:\n",
    "- **Numpy** and **Pandas** for data manipulation and handling.\n",
    "- **Matplotlib** for plotting and visualizing the data.\n",
    "- **NLTK** for natural language processing tasks, including stopword removal and stemming.\n",
    "- **Scikit-learn** for splitting data and evaluating models.\n",
    "- **TensorFlow/Keras** for building and training deep learning models, specifically an LSTM-based model for sequence prediction.\n",
    "- **TensorFlow Hub** for pre-trained models that can be used in the neural network.\n",
    "\n",
    "These libraries will help us preprocess text data, build machine learning models, and evaluate the results.\n"
   ]
  },
  {
   "cell_type": "code",
   "execution_count": 2,
   "id": "119c1e18",
   "metadata": {},
   "outputs": [],
   "source": [
    "import numpy as np\n",
    "import pandas as pd\n",
    "import matplotlib.pyplot as plt\n",
    "\n",
    "import re\n",
    "from nltk.corpus import stopwords\n",
    "from nltk.stem import PorterStemmer\n",
    "import string\n",
    "\n",
    "from sklearn.model_selection import train_test_split\n",
    "from sklearn.metrics import accuracy_score\n",
    "\n",
    "from tensorflow.keras.models import Model, Sequential, load_model\n",
    "from tensorflow.keras.layers import Input, LSTM, RepeatVector, TimeDistributed, Dense, Embedding, Dropout, InputLayer\n",
    "from tensorflow.keras.optimizers import Adam\n",
    "import tensorflow_hub as hub\n",
    "import tensorflow as tf\n",
    "from tensorflow.keras.preprocessing.text import Tokenizer\n",
    "from tensorflow.keras.preprocessing.sequence import pad_sequences"
   ]
  },
  {
   "cell_type": "markdown",
   "id": "c8fc2a74",
   "metadata": {},
   "source": [
    "# Loading Datasets\n",
    "\n",
    "In this section, we load multiple datasets related to various mental health conditions using **Pandas `read_csv`** function. These datasets contain preprocessed features in TF-IDF format (Term Frequency-Inverse Document Frequency) for different topics, such as:\n",
    "\n",
    "- **Healthy** (df_healthy)  \n",
    "- **Addiction** (df_addiction)  \n",
    "- **Schizophrenia** (df_schizophrenia)  \n",
    "- **Loneliness** (df_lonely)  \n",
    "- **Depression** (df_depression)  \n",
    "- **Autism** (df_autism)  \n",
    "- **Anxiety** (df_anxiety)  \n",
    "- **Alcoholism** (df_alcoholism)  \n",
    "- **ADHD** (df_adhd)  \n",
    "- **Suicide Watch** (df_suicidewatch)  \n",
    "\n",
    "Each dataset is read into a DataFrame to be used for model training and analysis. The `read_csv` function is used to load the data from CSV files stored in the working directory.\n"
   ]
  },
  {
   "cell_type": "code",
   "execution_count": 3,
   "id": "71af836c",
   "metadata": {},
   "outputs": [],
   "source": [
    "df_healthy = pd.read_csv(\"depression_dataset_reddit_cleaned.csv\")\n",
    "df_addiction = pd.read_csv(\"addiction_pre_features_tfidf_256.csv\")\n",
    "df_schizophrenia = pd.read_csv(\"schizophrenia_pre_features_tfidf_256.csv\")\n",
    "df_lonely = pd.read_csv(\"lonely_pre_features_tfidf_256.csv\")\n",
    "df_depression = pd.read_csv(\"depression_pre_features_tfidf_256.csv\")\n",
    "df_autism = pd.read_csv(\"autism_pre_features_tfidf_256.csv\")\n",
    "df_anxiety = pd.read_csv(\"anxiety_pre_features_tfidf_256.csv\")\n",
    "df_alcoholism = pd.read_csv(\"alcoholism_pre_features_tfidf_256.csv\")\n",
    "df_adhd = pd.read_csv(\"adhd_pre_features_tfidf_256.csv\")\n",
    "df_suicidewatch = pd.read_csv(\"suicidewatch_pre_features_tfidf_256.csv\")\n",
    "# df_socialanxiety = pd.read_csv(\"socialanxiety_pre_features_tfidf_256.csv\")"
   ]
  },
  {
   "cell_type": "markdown",
   "id": "dcf26cec",
   "metadata": {},
   "source": [
    "# Preprocessing\n",
    "\n",
    "In this section, we perform some basic preprocessing steps on the **Healthy** dataset:\n",
    "1. **Filtering**: We filter out rows where the `is_depression` column is not equal to 0 (i.e., we keep only the rows where `is_depression == 0`, indicating they are healthy posts).\n",
    "2. **Renaming Columns**: We rename the columns for clarity:\n",
    "   - The column `is_depression` is renamed to `category` to represent the target variable for classification.\n",
    "   - The column `clean_text` is renamed to `post` for consistency.\n",
    "3. **Value Replacement**: The `is_depression` column (which is now `category`) is replaced with the value `\"healthy\"` for all entries, indicating that these posts belong to the \"healthy\" category.\n",
    "4. **Displaying the Data**: We display the first few rows of the cleaned and modified dataset using `head()`.\n",
    "\n",
    "This data is now ready for further processing and model training.\n"
   ]
  },
  {
   "cell_type": "code",
   "execution_count": 4,
   "id": "a01da626",
   "metadata": {},
   "outputs": [
    {
     "data": {
      "text/html": [
       "<div>\n",
       "<style scoped>\n",
       "    .dataframe tbody tr th:only-of-type {\n",
       "        vertical-align: middle;\n",
       "    }\n",
       "\n",
       "    .dataframe tbody tr th {\n",
       "        vertical-align: top;\n",
       "    }\n",
       "\n",
       "    .dataframe thead th {\n",
       "        text-align: right;\n",
       "    }\n",
       "</style>\n",
       "<table border=\"1\" class=\"dataframe\">\n",
       "  <thead>\n",
       "    <tr style=\"text-align: right;\">\n",
       "      <th></th>\n",
       "      <th>post</th>\n",
       "      <th>category</th>\n",
       "    </tr>\n",
       "  </thead>\n",
       "  <tbody>\n",
       "    <tr>\n",
       "      <th>3831</th>\n",
       "      <td>switchfoot http twitpic com y zl awww that s a...</td>\n",
       "      <td>healthy</td>\n",
       "    </tr>\n",
       "    <tr>\n",
       "      <th>3832</th>\n",
       "      <td>is upset that he can t update his facebook by ...</td>\n",
       "      <td>healthy</td>\n",
       "    </tr>\n",
       "    <tr>\n",
       "      <th>3833</th>\n",
       "      <td>kenichan i dived many time for the ball manage...</td>\n",
       "      <td>healthy</td>\n",
       "    </tr>\n",
       "    <tr>\n",
       "      <th>3834</th>\n",
       "      <td>my whole body feel itchy and like it on fire</td>\n",
       "      <td>healthy</td>\n",
       "    </tr>\n",
       "    <tr>\n",
       "      <th>3835</th>\n",
       "      <td>nationwideclass no it s not behaving at all i ...</td>\n",
       "      <td>healthy</td>\n",
       "    </tr>\n",
       "  </tbody>\n",
       "</table>\n",
       "</div>"
      ],
      "text/plain": [
       "                                                   post category\n",
       "3831  switchfoot http twitpic com y zl awww that s a...  healthy\n",
       "3832  is upset that he can t update his facebook by ...  healthy\n",
       "3833  kenichan i dived many time for the ball manage...  healthy\n",
       "3834       my whole body feel itchy and like it on fire  healthy\n",
       "3835  nationwideclass no it s not behaving at all i ...  healthy"
      ]
     },
     "execution_count": 4,
     "metadata": {},
     "output_type": "execute_result"
    }
   ],
   "source": [
    "df_healthy = df_healthy[df_healthy[\"is_depression\"] == 0]\n",
    "df_healthy.rename(columns = {'is_depression':'category', \"clean_text\" : \"post\"}, inplace = True)\n",
    "\n",
    "df_healthy.replace(0, \"healthy\", inplace = True)\n",
    "df_healthy.head()"
   ]
  },
  {
   "cell_type": "markdown",
   "id": "9b4a2d77",
   "metadata": {},
   "source": [
    "# Creating and Combining Category DataFrames\n",
    "\n",
    "In this section, we create a separate DataFrame for each mental health category, then combine them into a single DataFrame:\n",
    "1. **Creating Category DataFrames**: We define a function `create_category_df` that takes a DataFrame and a category name as inputs. This function returns a new DataFrame with the `category` column set to the specified category name, and the `post` column copied from the original dataset.\n",
    "   - We create category DataFrames for each of the mental health conditions:\n",
    "     - **Healthy** (df_healthy_cat)\n",
    "     - **Addiction** (df_addiction_cat)\n",
    "     - **Schizophrenia** (df_schizophrenia_cat)\n",
    "     - **Loneliness** (df_lonely_cat)\n",
    "     - **Depression** (df_depression_cat)\n",
    "     - **Autism** (df_autism_cat)\n",
    "     - **Anxiety** (df_anxiety_cat)\n",
    "     - **Alcoholism** (df_alcoholism_cat)\n",
    "     - **ADHD** (df_adhd_cat)\n",
    "     - **Suicide Watch** (df_suicidewatch_cat)\n",
    "\n",
    "2. **Concatenating DataFrames**: All the category DataFrames are combined into a single DataFrame using `pd.concat`. This ensures that we have a consolidated dataset with all the posts labeled by their respective categories.\n",
    "\n",
    "3. **Resetting the Index**: After combining the DataFrames, we reset the index of the new DataFrame to ensure it is sequential and without gaps.\n",
    "\n",
    "4. **Displaying the Combined Data**: Finally, we print the first few rows of the combined DataFrame to inspect the structure and ensure the concatenation was successful.\n",
    "\n",
    "The combined DataFrame is now ready for further analysis or modeling.\n"
   ]
  },
  {
   "cell_type": "code",
   "execution_count": 5,
   "id": "e620bedd",
   "metadata": {},
   "outputs": [
    {
     "name": "stdout",
     "output_type": "stream",
     "text": [
      "  category                                               post\n",
      "0  healthy  switchfoot http twitpic com y zl awww that s a...\n",
      "1  healthy  is upset that he can t update his facebook by ...\n",
      "2  healthy  kenichan i dived many time for the ball manage...\n",
      "3  healthy       my whole body feel itchy and like it on fire\n",
      "4  healthy  nationwideclass no it s not behaving at all i ...\n"
     ]
    }
   ],
   "source": [
    "def create_category_df(df, category_name):\n",
    "    return pd.DataFrame({'category': category_name, 'post': df['post']})\n",
    "\n",
    "# Creating category DataFrames\n",
    "df_healthy_cat = create_category_df(df_healthy, 'healthy')\n",
    "df_addiction_cat = create_category_df(df_addiction, 'addiction')\n",
    "df_schizophrenia_cat = create_category_df(df_schizophrenia, 'schizophrenia')\n",
    "df_lonely_cat = create_category_df(df_lonely, 'lonely')\n",
    "df_depression_cat = create_category_df(df_depression, 'depression')\n",
    "df_autism_cat = create_category_df(df_autism, 'autism')\n",
    "df_anxiety_cat = create_category_df(df_anxiety, 'anxiety')\n",
    "df_alcoholism_cat = create_category_df(df_alcoholism, 'alcoholism')\n",
    "df_adhd_cat = create_category_df(df_adhd, 'adhd')\n",
    "df_suicidewatch_cat = create_category_df(df_suicidewatch, 'suicidewatch')\n",
    "\n",
    "# Concatenating all category DataFrames into one\n",
    "df_combined = pd.concat([df_healthy_cat, df_addiction_cat, df_schizophrenia_cat, df_lonely_cat, df_depression_cat, df_autism_cat, df_anxiety_cat, df_alcoholism_cat, df_adhd_cat, df_suicidewatch_cat])\n",
    "\n",
    "# Resetting index for the combined DataFrame\n",
    "df_combined.reset_index(drop=True, inplace=True)\n",
    "\n",
    "# Display the combined DataFrame\n",
    "print(df_combined.head())"
   ]
  },
  {
   "cell_type": "markdown",
   "id": "082aa75a",
   "metadata": {},
   "source": [
    "# Checking Class Distribution and Identifying Imbalance\n",
    "\n",
    "After combining all the datasets, we check the distribution of the categories in the combined dataset using `value_counts()`. The output shows the following distribution of posts across different categories:\n",
    "\n",
    "- **Depression**: 21,209 posts\n",
    "- **Anxiety**: 19,976 posts\n",
    "- **Suicide Watch**: 19,944 posts\n",
    "- **ADHD**: 16,696 posts\n",
    "- **Loneliness**: 11,545 posts\n",
    "- **Autism**: 4,576 posts\n",
    "- **Schizophrenia**: 4,281 posts\n",
    "- **Addiction**: 4,099 posts\n",
    "- **Healthy**: 3,900 posts\n",
    "- **Alcoholism**: 3,087 posts\n",
    "\n",
    "### Imbalance Observations:\n",
    "- There is a clear **class imbalance** in the dataset, where categories like **Depression**, **Anxiety**, and **Suicide Watch** have significantly more samples compared to categories like **Alcoholism**, **Healthy**, and **Addiction**.\n",
    "- The **Healthy** category, in particular, has the least number of posts, which could impact the model’s performance, as it may not be well-represented during training.\n",
    "- The imbalance can lead to the model being biased towards the majority classes and may not generalize well to the minority classes.\n",
    "\n",
    "### Next Steps:\n",
    "To address the class imbalance, techniques such as **resampling**, **class weights adjustment**, or **synthetic data generation** (e.g., using SMOTE) could be considered.\n"
   ]
  },
  {
   "cell_type": "code",
   "execution_count": 6,
   "id": "7718e271",
   "metadata": {},
   "outputs": [
    {
     "data": {
      "text/plain": [
       "category\n",
       "depression       21209\n",
       "anxiety          19976\n",
       "suicidewatch     19944\n",
       "adhd             16696\n",
       "lonely           11545\n",
       "autism            4576\n",
       "schizophrenia     4281\n",
       "addiction         4099\n",
       "healthy           3900\n",
       "alcoholism        3087\n",
       "Name: count, dtype: int64"
      ]
     },
     "execution_count": 6,
     "metadata": {},
     "output_type": "execute_result"
    }
   ],
   "source": [
    "df_combined.category.value_counts()"
   ]
  },
  {
   "cell_type": "markdown",
   "id": "8c9e0967",
   "metadata": {},
   "source": [
    "# Text Preprocessing Function\n",
    "\n",
    "In this section, we define a function `preprocessing` that cleans and prepares text data for further analysis or model training. The function performs the following steps:\n",
    "\n",
    "1. **Convert to String**: Ensures the input text is converted to a string type.\n",
    "2. **Remove Retweets**: Strips out any retweet indicator text (e.g., \"RT\").\n",
    "3. **Remove HTML Line Breaks**: Removes any HTML line breaks (`<br />`) from the text.\n",
    "4. **Remove URLs**: Eliminates any URLs from the text (e.g., starting with \"http\", \"https\", or \"www\").\n",
    "5. **Remove Numbers and Special Characters**: Removes numbers and non-alphanumeric characters (e.g., punctuation).\n",
    "6. **Remove Single Quotes**: Specifically removes single quotes (`'`).\n",
    "7. **Tokenization**: The text is split into individual words (tokens).\n",
    "8. **Stopword Removal**: We remove common English stopwords (e.g., \"the\", \"is\", \"and\") to focus on meaningful words.\n",
    "9. **Stemming**: Each word is reduced to its base form using the **Porter Stemmer**, which helps in grouping similar words together (e.g., \"running\" becomes \"run\").\n",
    "10. **Return Cleaned Text**: The cleaned words are joined back into a single string and returned.\n",
    "\n",
    "This function will be applied to each post in the dataset to clean the text before it is used in any analysis or modeling tasks.\n"
   ]
  },
  {
   "cell_type": "code",
   "execution_count": 7,
   "id": "cf57e02c",
   "metadata": {},
   "outputs": [],
   "source": [
    "def preprocessing(text):\n",
    "    text = str(text)\n",
    "    \n",
    "    # Remove retweet \"RT\" text\n",
    "    text = re.sub(r'^RT[\\s]+', '', text)\n",
    "    \n",
    "    # Remove HTML line breaks\n",
    "    text = re.sub(r'<br />', '', text)\n",
    "    \n",
    "    # Remove URLs\n",
    "    text = re.sub(r'http\\S+|www\\S+|https\\S+', '', text, flags=re.MULTILINE)\n",
    "    \n",
    "    # Remove special characters and numbers\n",
    "    text = re.sub(r'\\d+', '', text)\n",
    "    text = re.sub(r'[^\\w\\s]', '', text)\n",
    "    \n",
    "    # Remove single quotes\n",
    "    text = text.replace(\"\\'\", \"\")\n",
    "    \n",
    "    # Tokenize text\n",
    "    tokens = text.split()\n",
    "    \n",
    "    # Get stopwords and initialize stemmer\n",
    "    stopwords_english = stopwords.words(\"english\")\n",
    "    stemmer = PorterStemmer()\n",
    "    \n",
    "    cleaned_words = []\n",
    "\n",
    "    for x in tokens:\n",
    "        if x not in stopwords_english:\n",
    "            stem_word = stemmer.stem(x)\n",
    "            cleaned_words.append(stem_word)\n",
    "    \n",
    "    return ' '.join(cleaned_words)\n"
   ]
  },
  {
   "cell_type": "code",
   "execution_count": 8,
   "id": "e261ae8b",
   "metadata": {},
   "outputs": [],
   "source": [
    "df_combined[\"cleaned_post\"] = df_combined[\"post\"].apply(preprocessing)"
   ]
  },
  {
   "cell_type": "code",
   "execution_count": 9,
   "id": "fea75b8a",
   "metadata": {},
   "outputs": [
    {
     "data": {
      "text/html": [
       "<div>\n",
       "<style scoped>\n",
       "    .dataframe tbody tr th:only-of-type {\n",
       "        vertical-align: middle;\n",
       "    }\n",
       "\n",
       "    .dataframe tbody tr th {\n",
       "        vertical-align: top;\n",
       "    }\n",
       "\n",
       "    .dataframe thead th {\n",
       "        text-align: right;\n",
       "    }\n",
       "</style>\n",
       "<table border=\"1\" class=\"dataframe\">\n",
       "  <thead>\n",
       "    <tr style=\"text-align: right;\">\n",
       "      <th></th>\n",
       "      <th>category</th>\n",
       "      <th>post</th>\n",
       "      <th>cleaned_post</th>\n",
       "    </tr>\n",
       "  </thead>\n",
       "  <tbody>\n",
       "    <tr>\n",
       "      <th>0</th>\n",
       "      <td>healthy</td>\n",
       "      <td>switchfoot http twitpic com y zl awww that s a...</td>\n",
       "      <td>switchfoot http twitpic com zl awww bummer sho...</td>\n",
       "    </tr>\n",
       "    <tr>\n",
       "      <th>1</th>\n",
       "      <td>healthy</td>\n",
       "      <td>is upset that he can t update his facebook by ...</td>\n",
       "      <td>upset updat facebook text might cri result sch...</td>\n",
       "    </tr>\n",
       "    <tr>\n",
       "      <th>2</th>\n",
       "      <td>healthy</td>\n",
       "      <td>kenichan i dived many time for the ball manage...</td>\n",
       "      <td>kenichan dive mani time ball manag save rest g...</td>\n",
       "    </tr>\n",
       "    <tr>\n",
       "      <th>3</th>\n",
       "      <td>healthy</td>\n",
       "      <td>my whole body feel itchy and like it on fire</td>\n",
       "      <td>whole bodi feel itchi like fire</td>\n",
       "    </tr>\n",
       "    <tr>\n",
       "      <th>4</th>\n",
       "      <td>healthy</td>\n",
       "      <td>nationwideclass no it s not behaving at all i ...</td>\n",
       "      <td>nationwideclass behav mad see</td>\n",
       "    </tr>\n",
       "  </tbody>\n",
       "</table>\n",
       "</div>"
      ],
      "text/plain": [
       "  category                                               post  \\\n",
       "0  healthy  switchfoot http twitpic com y zl awww that s a...   \n",
       "1  healthy  is upset that he can t update his facebook by ...   \n",
       "2  healthy  kenichan i dived many time for the ball manage...   \n",
       "3  healthy       my whole body feel itchy and like it on fire   \n",
       "4  healthy  nationwideclass no it s not behaving at all i ...   \n",
       "\n",
       "                                        cleaned_post  \n",
       "0  switchfoot http twitpic com zl awww bummer sho...  \n",
       "1  upset updat facebook text might cri result sch...  \n",
       "2  kenichan dive mani time ball manag save rest g...  \n",
       "3                    whole bodi feel itchi like fire  \n",
       "4                      nationwideclass behav mad see  "
      ]
     },
     "execution_count": 9,
     "metadata": {},
     "output_type": "execute_result"
    }
   ],
   "source": [
    "df_combined.head()"
   ]
  },
  {
   "cell_type": "markdown",
   "id": "effaee22",
   "metadata": {},
   "source": [
    "# Splitting the Data into Training and Testing Sets\n",
    "\n",
    "In this section, we split the combined dataset into training and testing sets:\n",
    "1. **Defining Features and Target**: \n",
    "   - **X**: We select the `cleaned_post` column as the feature variable (the input text data).\n",
    "   - **y**: We select the `category` column as the target variable (the class labels for each post).\n",
    "   \n",
    "2. **Train-Test Split**: \n",
    "   - We use **`train_test_split`** from Scikit-learn to split the data into training and testing sets.\n",
    "   - The test size is set to **0.2**, meaning 20% of the data will be reserved for testing, while the remaining 80% will be used for training.\n",
    "   - The **random_state** is set to 42 to ensure reproducibility of the split.\n",
    "\n",
    "This step ensures that the model can be trained on one portion of the data and evaluated on a separate, unseen portion to assess its performance.\n"
   ]
  },
  {
   "cell_type": "code",
   "execution_count": 10,
   "id": "0793cb75",
   "metadata": {},
   "outputs": [],
   "source": [
    "X = df_combined[\"cleaned_post\"]\n",
    "y = df_combined[\"category\"]\n",
    "\n",
    "train_x, test_x, train_y, test_y = train_test_split(X, y, test_size = 0.2, random_state = 42)"
   ]
  },
  {
   "cell_type": "markdown",
   "id": "80b7c15a",
   "metadata": {},
   "source": [
    "# Tokenization and Padding of Text Data\n",
    "\n",
    "In this section, we prepare the text data for input into a deep learning model by performing tokenization and padding:\n",
    "\n",
    "1. **Tokenizer Initialization**: \n",
    "   - We initialize the **Tokenizer** from Keras with a limit of **5000 words** (most frequent words) and an **out-of-vocabulary (OOV) token** set to `<OOV>` for words not seen during training.\n",
    "   \n",
    "2. **Fitting the Tokenizer**: \n",
    "   - We fit the tokenizer on the **training data** (`train_x`) using the `fit_on_texts` method. This creates a vocabulary index, where each unique word is mapped to an integer.\n",
    "\n",
    "3. **Text to Sequences**: \n",
    "   - The tokenizer is then used to convert both the **training data** (`train_x`) and the **testing data** (`test_x`) into sequences of integers, where each word in the text is replaced by its corresponding integer from the tokenizer's vocabulary.\n",
    "\n",
    "4. **Padding Sequences**:\n",
    "   - The sequences are padded to a uniform length of **100 tokens** using the `pad_sequences` function. Padding is done at the **end** of the sequences (`padding='post'`), and sequences longer than 100 tokens are **truncated** at the end (`truncating='post'`).\n",
    "\n",
    "This process ensures that all text data is of consistent length and represented as integers, which is required for input into deep learning models like LSTM.\n"
   ]
  },
  {
   "cell_type": "code",
   "execution_count": 11,
   "id": "b17c7497",
   "metadata": {},
   "outputs": [],
   "source": [
    "tokenizer = Tokenizer(num_words = 5000, oov_token=\"<OOV>\")\n",
    "tokenizer.fit_on_texts(train_x)\n",
    "\n",
    "train_x_sequences = tokenizer.texts_to_sequences(train_x)\n",
    "test_x_sequences = tokenizer.texts_to_sequences(test_x)\n",
    "\n",
    "max_length = 100\n",
    "train_x_padded = pad_sequences(train_x_sequences, maxlen=max_length, padding='post', truncating='post')\n",
    "test_x_padded = pad_sequences(test_x_sequences, maxlen=max_length, padding='post', truncating='post')"
   ]
  },
  {
   "cell_type": "markdown",
   "id": "45045bf4",
   "metadata": {},
   "source": [
    "# Defining and Compiling the LSTM Model\n",
    "\n",
    "In this section, we define and compile a **Bidirectional LSTM** model for text classification:\n",
    "\n",
    "1. **Model Architecture**:\n",
    "   - **Embedding Layer**: The input is passed through an **Embedding layer** that converts the integer-encoded words into dense vectors of size 64. The input dimension is set to **5000** (the size of the vocabulary), and the input length is set to **100** (the length of each padded sequence).\n",
    "   - **Bidirectional LSTM Layer**: A **Bidirectional LSTM** layer with 64 units is used to process the sequential text data. The bidirectional nature of the LSTM allows the model to capture both forward and backward dependencies in the sequence.\n",
    "   - **Dropout Layer**: A **Dropout layer** with a rate of 0.4 is applied to prevent overfitting by randomly dropping 40% of the neurons during training.\n",
    "   - **Dense Layer**: A **Dense layer** with 10 units and a **softmax activation function** is added at the output, which is suitable for multi-class classification. The number of units corresponds to the number of categories in the dataset.\n",
    "\n",
    "2. **Model Compilation**:\n",
    "   - The model is compiled using **`sparse_categorical_crossentropy`** as the loss function, which is appropriate for multi-class classification problems where the target labels are integers (not one-hot encoded).\n",
    "   - The **Adam optimizer** is used for optimization, and **accuracy** is set as the evaluation metric.\n",
    "\n",
    "3. **Model Summary**:\n",
    "   - We print the **model summary** to inspect the architecture, the number of parameters, and the output shapes at each layer.\n",
    "\n",
    "This model is now ready for training on the preprocessed text data to classify the posts into the corresponding categories.\n"
   ]
  },
  {
   "cell_type": "code",
   "execution_count": 94,
   "id": "5e5c0933",
   "metadata": {},
   "outputs": [
    {
     "name": "stdout",
     "output_type": "stream",
     "text": [
      "Model: \"sequential_3\"\n",
      "_________________________________________________________________\n",
      " Layer (type)                Output Shape              Param #   \n",
      "=================================================================\n",
      " embedding_3 (Embedding)     (None, 100, 64)           320000    \n",
      "                                                                 \n",
      " bidirectional_3 (Bidirecti  (None, 128)               66048     \n",
      " onal)                                                           \n",
      "                                                                 \n",
      " dropout_7 (Dropout)         (None, 128)               0         \n",
      "                                                                 \n",
      " dense_3 (Dense)             (None, 10)                1290      \n",
      "                                                                 \n",
      "=================================================================\n",
      "Total params: 387338 (1.48 MB)\n",
      "Trainable params: 387338 (1.48 MB)\n",
      "Non-trainable params: 0 (0.00 Byte)\n",
      "_________________________________________________________________\n"
     ]
    }
   ],
   "source": [
    "from keras.layers import Bidirectional\n",
    "\n",
    "model = Sequential([\n",
    "    Embedding(input_dim=5000, output_dim=64, input_length=max_length),\n",
    "    Bidirectional(LSTM(64)),  # Third LSTM layer\n",
    "    Dropout(0.4),\n",
    "    Dense(10, activation='softmax')  # Use softmax for multi-class classification\n",
    "])\n",
    "\n",
    "model.compile(loss='sparse_categorical_crossentropy', optimizer='adam', metrics=['accuracy'])\n",
    "model.summary()"
   ]
  },
  {
   "cell_type": "markdown",
   "id": "963624b7",
   "metadata": {},
   "source": [
    "# Label Encoding for Multi-Class Classification\n",
    "\n",
    "In this section, we encode the target labels (categories) into numeric values using **Label Encoding**:\n",
    "\n",
    "1. **Label Encoder Initialization**: \n",
    "   - We initialize a **LabelEncoder** from Scikit-learn, which is used to convert categorical labels into numeric values.\n",
    "\n",
    "2. **Fitting and Transforming Training Labels**:\n",
    "   - We use the `fit_transform` method of the encoder on the **training labels** (`train_y`) to encode the categories into integer values. This process maps each unique category (e.g., \"depression\", \"anxiety\", etc.) to a unique integer.\n",
    "\n",
    "3. **Transforming Testing Labels**:\n",
    "   - The same **LabelEncoder** is applied to the **testing labels** (`test_y`) using the `transform` method, ensuring that the categories in the test set are encoded using the same integer mapping as the training set.\n",
    "\n",
    "The encoded labels will be used as the target variables for training and evaluating the model, allowing the neural network to predict numerical values, which can later be converted back to their original categorical labels.\n"
   ]
  },
  {
   "cell_type": "code",
   "execution_count": 95,
   "id": "0d9f72db",
   "metadata": {},
   "outputs": [],
   "source": [
    "from sklearn.preprocessing import LabelEncoder\n",
    "\n",
    "label_encoder = LabelEncoder()\n",
    "train_y_encoded = label_encoder.fit_transform(train_y)\n",
    "test_y_encoded = label_encoder.transform(test_y)"
   ]
  },
  {
   "cell_type": "markdown",
   "id": "b18f14f2",
   "metadata": {},
   "source": [
    "# Training the Model\n",
    "\n",
    "In this section, we train the **Bidirectional LSTM** model on the preprocessed training data:\n",
    "\n",
    "1. **Model Training**:\n",
    "   - The `fit` method is used to train the model on the **training data** (`train_x_padded` and `train_y_encoded`).\n",
    "   - We specify the number of **epochs** as **10**, meaning the model will pass through the entire training dataset 10 times.\n",
    "   - The **batch size** is set to **32**, which determines the number of samples that will be processed before updating the model's weights.\n",
    "   - We also provide **validation data** (`test_x_padded` and `test_y_encoded`) to monitor the model's performance on unseen data during training.\n",
    "\n",
    "2. **Training Progress**:\n",
    "   - During training, the model will output the loss and accuracy metrics for both the training and validation sets at the end of each epoch, allowing us to track its progress and performance.\n",
    "\n",
    "This step trains the model to classify posts into different mental health categories based on the input text.\n"
   ]
  },
  {
   "cell_type": "code",
   "execution_count": 96,
   "id": "63a8b034",
   "metadata": {},
   "outputs": [
    {
     "name": "stdout",
     "output_type": "stream",
     "text": [
      "Epoch 1/10\n",
      "2733/2733 [==============================] - 113s 40ms/step - loss: 1.0199 - accuracy: 0.6422 - val_loss: 0.7798 - val_accuracy: 0.7317\n",
      "Epoch 2/10\n",
      "2733/2733 [==============================] - 103s 38ms/step - loss: 0.7308 - accuracy: 0.7513 - val_loss: 0.7762 - val_accuracy: 0.7306\n",
      "Epoch 3/10\n",
      "2733/2733 [==============================] - 107s 39ms/step - loss: 0.6718 - accuracy: 0.7687 - val_loss: 0.7273 - val_accuracy: 0.7463\n",
      "Epoch 4/10\n",
      "2733/2733 [==============================] - 110s 40ms/step - loss: 0.6310 - accuracy: 0.7828 - val_loss: 0.7363 - val_accuracy: 0.7448\n",
      "Epoch 5/10\n",
      "2733/2733 [==============================] - 103s 38ms/step - loss: 0.5964 - accuracy: 0.7937 - val_loss: 0.7438 - val_accuracy: 0.7425\n",
      "Epoch 6/10\n",
      "2733/2733 [==============================] - 107s 39ms/step - loss: 0.5600 - accuracy: 0.8040 - val_loss: 0.7616 - val_accuracy: 0.7406\n",
      "Epoch 7/10\n",
      "2733/2733 [==============================] - 109s 40ms/step - loss: 0.5291 - accuracy: 0.8146 - val_loss: 0.7812 - val_accuracy: 0.7350\n",
      "Epoch 8/10\n",
      "2733/2733 [==============================] - 101s 37ms/step - loss: 0.4964 - accuracy: 0.8253 - val_loss: 0.8005 - val_accuracy: 0.7373\n",
      "Epoch 9/10\n",
      "2733/2733 [==============================] - 101s 37ms/step - loss: 0.4644 - accuracy: 0.8369 - val_loss: 0.8416 - val_accuracy: 0.7297\n",
      "Epoch 10/10\n",
      "2733/2733 [==============================] - 109s 40ms/step - loss: 0.4338 - accuracy: 0.8475 - val_loss: 0.8787 - val_accuracy: 0.7303\n"
     ]
    }
   ],
   "source": [
    "history = model.fit(train_x_padded, train_y_encoded, epochs=10, batch_size=32, validation_data=(test_x_padded, test_y_encoded))"
   ]
  },
  {
   "cell_type": "code",
   "execution_count": 97,
   "id": "f76c258c",
   "metadata": {},
   "outputs": [
    {
     "name": "stdout",
     "output_type": "stream",
     "text": [
      "684/684 [==============================] - 8s 11ms/step\n"
     ]
    }
   ],
   "source": [
    "y_hat = model.predict(test_x_padded)"
   ]
  },
  {
   "cell_type": "code",
   "execution_count": 98,
   "id": "bc87930c",
   "metadata": {},
   "outputs": [],
   "source": [
    "y_hat = [np.argmax(x) for x in y_hat]"
   ]
  },
  {
   "cell_type": "markdown",
   "id": "3eef2a61",
   "metadata": {},
   "source": [
    "# Evaluating Model Performance with Classification Report\n",
    "\n",
    "In this section, we evaluate the performance of the trained model on the **test data** using the **classification report**:\n",
    "\n",
    "1. **Classification Report**:\n",
    "   - We use the **`classification_report`** from Scikit-learn to generate a detailed report on the model's performance.\n",
    "   - This report includes key metrics such as:\n",
    "     - **Precision**: The proportion of true positive predictions among all positive predictions made by the model.\n",
    "     - **Recall**: The proportion of true positive predictions among all actual positive instances.\n",
    "     - **F1-Score**: The harmonic mean of precision and recall, providing a balanced measure of the model's performance.\n",
    "     - **Support**: The number of true instances for each category in the test set.\n",
    "\n",
    "2. **Input to the Report**:\n",
    "   - The `classification_report` function is called with the predicted labels (`y_hat`) and the true labels (`test_y_encoded`) as input.\n",
    "   - The predictions (`y_hat`) are assumed to have already been processed (e.g., by applying `argmax` to convert probabilities into class labels).\n",
    "\n",
    "This report provides a comprehensive evaluation of the model's classification performance across all categories in the dataset.\n"
   ]
  },
  {
   "cell_type": "code",
   "execution_count": 99,
   "id": "d2cbd82e",
   "metadata": {},
   "outputs": [
    {
     "name": "stdout",
     "output_type": "stream",
     "text": [
      "              precision    recall  f1-score   support\n",
      "\n",
      "           0       0.80      0.75      0.77       880\n",
      "           1       0.87      0.85      0.86      3485\n",
      "           2       0.78      0.80      0.79       606\n",
      "           3       0.81      0.80      0.81      3948\n",
      "           4       0.80      0.86      0.83       856\n",
      "           5       0.54      0.60      0.57      3843\n",
      "           6       0.92      0.92      0.92       802\n",
      "           7       0.68      0.67      0.67      2326\n",
      "           8       0.72      0.74      0.73       851\n",
      "           9       0.70      0.64      0.67      4266\n",
      "\n",
      "    accuracy                           0.73     21863\n",
      "   macro avg       0.76      0.76      0.76     21863\n",
      "weighted avg       0.73      0.73      0.73     21863\n",
      "\n"
     ]
    }
   ],
   "source": [
    "from sklearn.metrics import classification_report\n",
    "\n",
    "print(classification_report(y_hat, test_y_encoded))"
   ]
  },
  {
   "cell_type": "code",
   "execution_count": 48,
   "id": "f737c326",
   "metadata": {},
   "outputs": [
    {
     "data": {
      "text/plain": [
       "array(['addiction', 'adhd', 'alcoholism', 'anxiety', 'autism',\n",
       "       'depression', 'healthy', 'lonely', 'schizophrenia', 'suicidewatch'],\n",
       "      dtype=object)"
      ]
     },
     "execution_count": 48,
     "metadata": {},
     "output_type": "execute_result"
    }
   ],
   "source": [
    "label_encoder.classes_"
   ]
  },
  {
   "cell_type": "code",
   "execution_count": 49,
   "id": "efb770ba",
   "metadata": {},
   "outputs": [
    {
     "data": {
      "text/plain": [
       "array(['suicidewatch'], dtype=object)"
      ]
     },
     "execution_count": 49,
     "metadata": {},
     "output_type": "execute_result"
    }
   ],
   "source": [
    "label_encoder.inverse_transform([9])"
   ]
  },
  {
   "cell_type": "code",
   "execution_count": 50,
   "id": "5f9c7410",
   "metadata": {},
   "outputs": [],
   "source": [
    "import seaborn as sns\n",
    "from sklearn.metrics import confusion_matrix, ConfusionMatrixDisplay"
   ]
  },
  {
   "cell_type": "code",
   "execution_count": 51,
   "id": "ef04fcd1",
   "metadata": {},
   "outputs": [
    {
     "data": {
      "image/png": "[encoded data removed]",
      "text/plain": [
       "<Figure size 1000x800 with 2 Axes>"
      ]
     },
     "metadata": {},
     "output_type": "display_data"
    }
   ],
   "source": [
    "cm = confusion_matrix(test_y_encoded, y_hat, labels=np.arange(10))\n",
    "\n",
    "# Plot confusion matrix\n",
    "plt.figure(figsize=(10, 8))\n",
    "sns.heatmap(cm, annot=True, fmt='d', cmap='Blues', xticklabels=np.arange(10), yticklabels=np.arange(10))\n",
    "plt.xlabel('Predicted Labels')\n",
    "plt.ylabel('True Labels')\n",
    "plt.title('Confusion Matrix')\n",
    "plt.show()"
   ]
  },
  {
   "cell_type": "code",
   "execution_count": 52,
   "id": "441edcd6",
   "metadata": {},
   "outputs": [],
   "source": [
    "test = [\"I woke up today with a familiar heaviness in my chest, a weight that has become all too routine. It’s hard to pinpoint exactly when this started, but it feels like it has been forever. I lay in bed for an hour, maybe two, staring at the ceiling, unable to muster the strength to get up. The thought of facing another day feels overwhelming. Everything seems pointless.Eventually, I drag myself out of bed. The room is a mess, clothes strewn everywhere, dishes piled up on the desk. I know I should clean up, but I can’t bring myself to care. I make a half-hearted attempt to tidy up, but it’s too much. I leave it as it is and head to the bathroom. Even brushing my teeth feels like a monumental task.I skip breakfast. I’m not hungry anyway. I sit on the couch and turn on the TV, not really watching. It’s just noise, a distraction from the thoughts in my head. I know I should be doing something productive, but I can’t focus. My mind feels like it’s in a fog, every thought slow and labored.I check my phone. A few messages from friends and family. They mean well, but I don’t have the energy to respond. They ask how I’m doing, if I want to hang out. I don’t know how to explain that I can’t. It’s not that I don’t want to see them, but the idea of social interaction feels exhausting. So, I leave the messages unread, promising myself I’ll reply later, though I know I probably won’t.The day drags on. I try to distract myself with various activities: reading, playing video games, scrolling through social media. Nothing holds my interest for long. I feel restless, yet too tired to do anything. It’s a strange paradox that has become the norm for me.As the afternoon turns into evening, the emptiness inside me grows. I think about my life, about how different it used to be. I had dreams and ambitions once. I wanted to travel the world, have a successful career, maybe start a family. Now, all those dreams seem distant and unattainable. It’s like I’m watching my life from the outside, unable to change its course.Dinner time comes and goes. I eat something, but I can’t taste it. Food is just fuel, something to keep my body going. I sit in silence, lost in my thoughts. The loneliness is suffocating, but I don’t know how to reach out for help. I’ve tried therapy, medication, self-help books. Some days they help, but today is not one of those days.Night falls, and the darkness outside matches how I feel inside. I crawl back into bed, hoping that sleep will come quickly. It’s a temporary escape from the pain, a reprieve from the constant battle in my mind. As I lay there, I think about tomorrow. Will it be any different? Will I find a reason to keep going?Eventually, I drift off to sleep, but even my dreams are restless. They are filled with anxiety and fear, reflections of my waking life. When I wake up tomorrow, I know I’ll face the same struggles. But for now, at least, I have a few hours of peace.This is my reality. Living with depression is like walking through a fog, where every step is uncertain and every day feels the same. But I hold on to the hope that maybe, just maybe, one day the fog will lift. Until then, I take it one day at a time, surviving in the only way I know how.\"]"
   ]
  },
  {
   "cell_type": "code",
   "execution_count": 53,
   "id": "5cb38a2c",
   "metadata": {},
   "outputs": [],
   "source": [
    "test = [\"I am not depress for you\"]"
   ]
  },
  {
   "cell_type": "code",
   "execution_count": 54,
   "id": "f13aa758",
   "metadata": {},
   "outputs": [],
   "source": [
    "preprocessing_test = preprocessing(test)"
   ]
  },
  {
   "cell_type": "code",
   "execution_count": 55,
   "id": "f343a72a",
   "metadata": {},
   "outputs": [],
   "source": [
    "test_sequences = tokenizer.texts_to_sequences(preprocessing_test)\n",
    "\n",
    "test_padded = pad_sequences(test_sequences, maxlen=max_length, padding='post', truncating='post')"
   ]
  },
  {
   "cell_type": "code",
   "execution_count": 56,
   "id": "d64a791a",
   "metadata": {},
   "outputs": [
    {
     "data": {
      "text/plain": [
       "(9, 100)"
      ]
     },
     "execution_count": 56,
     "metadata": {},
     "output_type": "execute_result"
    }
   ],
   "source": [
    "test_padded.shape"
   ]
  },
  {
   "cell_type": "code",
   "execution_count": 57,
   "id": "3992f187",
   "metadata": {},
   "outputs": [
    {
     "name": "stdout",
     "output_type": "stream",
     "text": [
      "1/1 [==============================] - 0s 48ms/step\n"
     ]
    },
    {
     "data": {
      "text/plain": [
       "array([[1.0881447e-02, 3.4772545e-02, 1.5884049e-02, 1.6567860e-02,\n",
       "        1.4600017e-02, 1.3735162e-01, 1.4160806e-01, 4.8534039e-02,\n",
       "        2.6317978e-02, 5.5348235e-01],\n",
       "       [1.3721023e-03, 1.4184414e-03, 1.1285552e-03, 6.7359704e-04,\n",
       "        1.4197365e-03, 2.1782201e-03, 9.7987992e-01, 2.4925957e-03,\n",
       "        1.1424747e-03, 8.2942965e-03],\n",
       "       [2.7394571e-04, 7.2281261e-04, 2.0872852e-04, 4.0789813e-04,\n",
       "        2.3104362e-04, 8.6745573e-04, 9.9489450e-01, 4.1047245e-04,\n",
       "        2.8164100e-04, 1.7015323e-03],\n",
       "       [1.0006999e-04, 1.5065729e-04, 6.7163062e-05, 4.3571374e-05,\n",
       "        9.1977163e-05, 1.2463619e-04, 9.9889034e-01, 1.7838027e-04,\n",
       "        7.6334756e-05, 2.7682801e-04],\n",
       "       [2.7677450e-05, 6.7093708e-05, 1.6556554e-05, 7.8894645e-06,\n",
       "        2.2447852e-05, 2.5168421e-05, 9.9971730e-01, 4.8586280e-05,\n",
       "        1.5890822e-05, 5.1296836e-05],\n",
       "       [7.9391140e-04, 7.5728644e-04, 7.2433334e-04, 3.2046007e-04,\n",
       "        7.5974956e-04, 1.5065912e-03, 9.8625803e-01, 1.6323173e-03,\n",
       "        6.0609612e-04, 6.6410652e-03],\n",
       "       [1.0007009e-04, 1.5065743e-04, 6.7163128e-05, 4.3571414e-05,\n",
       "        9.1977250e-05, 1.2463631e-04, 9.9889034e-01, 1.7838043e-04,\n",
       "        7.6334829e-05, 2.7682827e-04],\n",
       "       [7.1766004e-03, 3.6824595e-02, 9.4131529e-03, 1.3626062e-02,\n",
       "        1.1405815e-02, 1.3611098e-01, 1.5968619e-01, 6.5986983e-02,\n",
       "        1.8254399e-02, 5.4151523e-01],\n",
       "       [7.1766004e-03, 3.6824595e-02, 9.4131529e-03, 1.3626062e-02,\n",
       "        1.1405815e-02, 1.3611098e-01, 1.5968619e-01, 6.5986983e-02,\n",
       "        1.8254399e-02, 5.4151523e-01]], dtype=float32)"
      ]
     },
     "execution_count": 57,
     "metadata": {},
     "output_type": "execute_result"
    }
   ],
   "source": [
    "result = model.predict(test_padded)\n",
    "result"
   ]
  },
  {
   "cell_type": "code",
   "execution_count": 58,
   "id": "c8ccbe15",
   "metadata": {},
   "outputs": [
    {
     "data": {
      "text/plain": [
       "(9, 10)"
      ]
     },
     "execution_count": 58,
     "metadata": {},
     "output_type": "execute_result"
    }
   ],
   "source": [
    "result.shape"
   ]
  },
  {
   "cell_type": "code",
   "execution_count": 59,
   "id": "f6b59478",
   "metadata": {},
   "outputs": [
    {
     "data": {
      "text/plain": [
       "(21863,)"
      ]
     },
     "execution_count": 59,
     "metadata": {},
     "output_type": "execute_result"
    }
   ],
   "source": [
    "test_x.shape"
   ]
  },
  {
   "cell_type": "code",
   "execution_count": 60,
   "id": "54f0a06d",
   "metadata": {},
   "outputs": [
    {
     "data": {
      "text/plain": [
       "(21863, 100)"
      ]
     },
     "execution_count": 60,
     "metadata": {},
     "output_type": "execute_result"
    }
   ],
   "source": [
    "test_x_padded.shape"
   ]
  },
  {
   "cell_type": "code",
   "execution_count": 61,
   "id": "09c18eff",
   "metadata": {},
   "outputs": [
    {
     "data": {
      "text/plain": [
       "(9, 100)"
      ]
     },
     "execution_count": 61,
     "metadata": {},
     "output_type": "execute_result"
    }
   ],
   "source": [
    "test_padded.shape"
   ]
  },
  {
   "cell_type": "code",
   "execution_count": 100,
   "id": "f5e7d2c0",
   "metadata": {},
   "outputs": [
    {
     "name": "stdout",
     "output_type": "stream",
     "text": [
      "1/1 [==============================] - 0s 21ms/step\n"
     ]
    }
   ],
   "source": [
    "sample_text = [\"I woke up today with a familiar heaviness in my chest, a weight that has become all too routine. It’s hard to pinpoint exactly when this started, but it feels like it has been forever. I lay in bed for an hour, maybe two, staring at the ceiling, unable to muster the strength to get up. The thought of facing another day feels overwhelming. Everything seems pointless.Eventually, I drag myself out of bed. The room is a mess, clothes strewn everywhere, dishes piled up on the desk. I know I should clean up, but I can’t bring myself to care. I make a half-hearted attempt to tidy up, but it’s too much. I leave it as it is and head to the bathroom. Even brushing my teeth feels like a monumental task.I skip breakfast. I’m not hungry anyway. I sit on the couch and turn on the TV, not really watching. It’s just noise, a distraction from the thoughts in my head. I know I should be doing something productive, but I can’t focus. My mind feels like it’s in a fog, every thought slow and labored.I check my phone. A few messages from friends and family. They mean well, but I don’t have the energy to respond. They ask how I’m doing, if I want to hang out. I don’t know how to explain that I can’t. It’s not that I don’t want to see them, but the idea of social interaction feels exhausting. So, I leave the messages unread, promising myself I’ll reply later, though I know I probably won’t.The day drags on. I try to distract myself with various activities: reading, playing video games, scrolling through social media. Nothing holds my interest for long. I feel restless, yet too tired to do anything. It’s a strange paradox that has become the norm for me.As the afternoon turns into evening, the emptiness inside me grows. I think about my life, about how different it used to be. I had dreams and ambitions once. I wanted to travel the world, have a successful career, maybe start a family. Now, all those dreams seem distant and unattainable. It’s like I’m watching my life from the outside, unable to change its course.Dinner time comes and goes. I eat something, but I can’t taste it. Food is just fuel, something to keep my body going. I sit in silence, lost in my thoughts. The loneliness is suffocating, but I don’t know how to reach out for help. I’ve tried therapy, medication, self-help books. Some days they help, but today is not one of those days.Night falls, and the darkness outside matches how I feel inside. I crawl back into bed, hoping that sleep will come quickly. It’s a temporary escape from the pain, a reprieve from the constant battle in my mind. As I lay there, I think about tomorrow. Will it be any different? Will I find a reason to keep going?Eventually, I drift off to sleep, but even my dreams are restless. They are filled with anxiety and fear, reflections of my waking life. When I wake up tomorrow, I know I’ll face the same struggles. But for now, at least, I have a few hours of peace.This is my reality. Living with depression is like walking through a fog, where every step is uncertain and every day feels the same. But I hold on to the hope that maybe, just maybe, one day the fog will lift. Until then, I take it one day at a time, surviving in the only way I know how.\"]\n",
    "sample_sequences = tokenizer.texts_to_sequences(sample_text)\n",
    "sample_padded = pad_sequences(sample_sequences, maxlen=max_length, padding='post', truncating='post')\n",
    "\n",
    "predictions = model.predict(sample_padded)"
   ]
  },
  {
   "cell_type": "code",
   "execution_count": 101,
   "id": "af96358a",
   "metadata": {},
   "outputs": [
    {
     "data": {
      "text/plain": [
       "array(['anxiety'], dtype=object)"
      ]
     },
     "execution_count": 101,
     "metadata": {},
     "output_type": "execute_result"
    }
   ],
   "source": [
    "label_encoder.inverse_transform([np.argmax(predictions)])"
   ]
  },
  {
   "cell_type": "code",
   "execution_count": 102,
   "id": "30410a39",
   "metadata": {},
   "outputs": [
    {
     "name": "stdout",
     "output_type": "stream",
     "text": [
      "1/1 [==============================] - 0s 23ms/step\n"
     ]
    }
   ],
   "source": [
    "sample_text = [\"The sun rises, but I remain hidden. Every day is a battle with social anxiety. The thought of facing people makes my heart race, my palms sweat. Even simple tasks like grocery shopping feel like climbing a mountain. Crowded places suffocate me; conversations with strangers are terrifying. I rehearse words in my head, fearing judgment. Meetings and social gatherings are nightmares. I yearn for connection but retreat to safety in isolation. Therapy helps, step by step, learning to navigate this invisible enemy. Progress is slow but each small victory matters. One day, I hope to embrace the world without fear.\"]\n",
    "sample_sequences = tokenizer.texts_to_sequences(sample_text)\n",
    "sample_padded = pad_sequences(sample_sequences, maxlen=max_length, padding='post', truncating='post')\n",
    "\n",
    "predictions = model.predict(sample_padded)"
   ]
  },
  {
   "cell_type": "code",
   "execution_count": 103,
   "id": "fea88bec",
   "metadata": {},
   "outputs": [
    {
     "data": {
      "text/plain": [
       "array(['depression'], dtype=object)"
      ]
     },
     "execution_count": 103,
     "metadata": {},
     "output_type": "execute_result"
    }
   ],
   "source": [
    "label_encoder.inverse_transform([np.argmax(predictions)])"
   ]
  },
  {
   "cell_type": "code",
   "execution_count": 104,
   "id": "4759d662",
   "metadata": {},
   "outputs": [
    {
     "name": "stdout",
     "output_type": "stream",
     "text": [
      "1/1 [==============================] - 0s 23ms/step\n"
     ]
    },
    {
     "data": {
      "text/plain": [
       "array(['adhd'], dtype=object)"
      ]
     },
     "execution_count": 104,
     "metadata": {},
     "output_type": "execute_result"
    }
   ],
   "source": [
    "sample_text = [\"Each day feels like a whirlwind. The morning starts with good intentions, but distractions quickly take over. I jump from task to task, often leaving projects unfinished. Concentration is a struggle; my mind constantly races with thoughts. Simple routines like getting ready or doing chores feel chaotic. Meetings and deadlines are daunting, as staying focused requires immense effort. I often misplace things and forget appointments. Despite the challenges, there's a silver lining: creativity and spontaneity. I embrace my unique thinking and energy. With support and strategies, I'm learning to harness my strengths and navigate the hurdles life presents.\"]\n",
    "sample_sequences = tokenizer.texts_to_sequences(sample_text)\n",
    "sample_padded = pad_sequences(sample_sequences, maxlen=max_length, padding='post', truncating='post')\n",
    "X\n",
    "predictions = model.predict(sample_padded)\n",
    "label_encoder.inverse_transform([np.argmax(predictions)])"
   ]
  },
  {
   "cell_type": "code",
   "execution_count": 105,
   "id": "8447b385",
   "metadata": {},
   "outputs": [
    {
     "name": "stdout",
     "output_type": "stream",
     "text": [
      "1/1 [==============================] - 0s 26ms/step\n"
     ]
    },
    {
     "data": {
      "text/plain": [
       "array(['autism'], dtype=object)"
      ]
     },
     "execution_count": 105,
     "metadata": {},
     "output_type": "execute_result"
    }
   ],
   "source": [
    "sample_text = [df_healthy_cat[\"post\"].iloc[1170]]\n",
    "sample_sequences = tokenizer.texts_to_sequences(sample_text)\n",
    "sample_padded = pad_sequences(sample_sequences, maxlen=max_length, padding='post', truncating='post')\n",
    "\n",
    "predictions = model.predict(sample_padded)\n",
    "label_encoder.inverse_transform([np.argmax(predictions)])"
   ]
  },
  {
   "cell_type": "code",
   "execution_count": 106,
   "id": "129be98e",
   "metadata": {},
   "outputs": [
    {
     "name": "stdout",
     "output_type": "stream",
     "text": [
      "1/1 [==============================] - 0s 23ms/step\n"
     ]
    },
    {
     "data": {
      "text/plain": [
       "array(['schizophrenia'], dtype=object)"
      ]
     },
     "execution_count": 106,
     "metadata": {},
     "output_type": "execute_result"
    }
   ],
   "source": [
    "sample_text = [\"Each day begins with a routine that brings comfort and order. Familiar patterns and predictable activities help me navigate the world. Sensory experiences can be overwhelming; bright lights and loud noises often lead to discomfort. Social interactions can feel complex and confusing, making me prefer solitude or the company of close, understanding friends. I find joy in deep focus on my interests, delving into details that others might overlook. Communication sometimes feels challenging, but I express myself best through my passions and special skills. With understanding and support, I thrive in environments that respect my needs and celebrate my unique perspective.\"]\n",
    "sample_sequences = tokenizer.texts_to_sequences(sample_text)\n",
    "sample_padded = pad_sequences(sample_sequences, maxlen=max_length, padding='post', truncating='post')\n",
    "X\n",
    "predictions = model.predict(sample_padded)\n",
    "label_encoder.inverse_transform([np.argmax(predictions)])"
   ]
  },
  {
   "cell_type": "code",
   "execution_count": 92,
   "id": "90d7816c",
   "metadata": {},
   "outputs": [
    {
     "name": "stdout",
     "output_type": "stream",
     "text": [
      "1/1 [==============================] - 0s 32ms/step\n"
     ]
    },
    {
     "data": {
      "text/plain": [
       "array(['suicidewatch'], dtype=object)"
      ]
     },
     "execution_count": 92,
     "metadata": {},
     "output_type": "execute_result"
    }
   ],
   "source": [
    "sample_text = [df_suicidewatch_cat[\"post\"].iloc[1705]]\n",
    "sample_sequences = tokenizer.texts_to_sequences(sample_text)\n",
    "sample_padded = pad_sequences(sample_sequences, maxlen=max_length, padding='post', truncating='post')\n",
    "\n",
    "predictions = model.predict(sample_padded)\n",
    "label_encoder.inverse_transform([np.argmax(predictions)])"
   ]
  },
  {
   "cell_type": "code",
   "execution_count": 93,
   "id": "5b7e83df",
   "metadata": {},
   "outputs": [
    {
     "name": "stdout",
     "output_type": "stream",
     "text": [
      "1/1 [==============================] - 0s 36ms/step\n"
     ]
    },
    {
     "data": {
      "text/plain": [
       "array(['suicidewatch'], dtype=object)"
      ]
     },
     "execution_count": 93,
     "metadata": {},
     "output_type": "execute_result"
    }
   ],
   "source": [
    "sample_text = [\"I have addiction on internet\"]\n",
    "sample_sequences = tokenizer.texts_to_sequences(sample_text)\n",
    "sample_padded = pad_sequences(sample_sequences, maxlen=max_length, padding='post', truncating='post')\n",
    "X\n",
    "predictions = model.predict(sample_padded)\n",
    "label_encoder.inverse_transform([np.argmax(predictions)])"
   ]
  },
  {
   "cell_type": "code",
   "execution_count": null,
   "id": "9a799f8d",
   "metadata": {},
   "outputs": [],
   "source": []
  }
 ],
 "metadata": {
  "kernelspec": {
   "display_name": "Python 3 (ipykernel)",
   "language": "python",
   "name": "python3"
  },
  "language_info": {
   "codemirror_mode": {
    "name": "ipython",
    "version": 3
   },
   "file_extension": ".py",
   "mimetype": "text/x-python",
   "name": "python",
   "nbconvert_exporter": "python",
   "pygments_lexer": "ipython3",
   "version": "3.11.5"
  }
 },
 "nbformat": 4,
 "nbformat_minor": 5
}
